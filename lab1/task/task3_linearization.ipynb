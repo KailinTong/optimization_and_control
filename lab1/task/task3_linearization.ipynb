{
 "cells": [
  {
   "cell_type": "code",
   "execution_count": 1,
   "id": "wicked-olympus",
   "metadata": {},
   "outputs": [],
   "source": [
    "from sympy import *\n",
    "from IPython.display import display\n",
    "init_printing(use_latex=True)\n",
    "import numpy as np"
   ]
  },
  {
   "cell_type": "code",
   "execution_count": 2,
   "id": "pleasant-arbitration",
   "metadata": {},
   "outputs": [],
   "source": [
    "# define state variables\n",
    "# x1 = xw; x2 = phi; x3 = vw; x4 = omega\n",
    "x1, x2, x3, x4, u = symbols('x_1, x_2, x_3, x_4, u')"
   ]
  },
  {
   "cell_type": "code",
   "execution_count": 3,
   "id": "cubic-survival",
   "metadata": {},
   "outputs": [],
   "source": [
    "# define physical constants\n",
    "mw, ms, g, l, V, k1 = symbols('m_w, m_s, g, l, V, k_1') "
   ]
  },
  {
   "cell_type": "code",
   "execution_count": 4,
   "id": "upper-modeling",
   "metadata": {},
   "outputs": [
    {
     "data": {
      "image/png": "[encoded data removed]",
      "text/latex": [
       "$\\displaystyle x_{3}$"
      ],
      "text/plain": [
       "x₃"
      ]
     },
     "metadata": {},
     "output_type": "display_data"
    },
    {
     "data": {
      "image/png": "[encoded data removed]",
      "text/latex": [
       "$\\displaystyle x_{4}$"
      ],
      "text/plain": [
       "x₄"
      ]
     },
     "metadata": {},
     "output_type": "display_data"
    },
    {
     "data": {
      "image/png": "[encoded data removed]",
      "text/latex": [
       "$\\displaystyle \\frac{V u - g m_{s} \\sin{\\left(x_{2} \\right)} \\cos{\\left(x_{2} \\right)} - k_{1} x_{3} + l m_{s} x_{4}^{2} \\sin{\\left(x_{2} \\right)}}{m_{s} \\sin^{2}{\\left(x_{2} \\right)} + m_{w}}$"
      ],
      "text/plain": [
       "                                            2        \n",
       "V⋅u - g⋅mₛ⋅sin(x₂)⋅cos(x₂) - k₁⋅x₃ + l⋅mₛ⋅x₄ ⋅sin(x₂)\n",
       "─────────────────────────────────────────────────────\n",
       "                        2                            \n",
       "                  mₛ⋅sin (x₂) + m_w                  "
      ]
     },
     "metadata": {},
     "output_type": "display_data"
    },
    {
     "data": {
      "image/png": "[encoded data removed]",
      "text/latex": [
       "$\\displaystyle \\frac{- \\frac{V u \\cos{\\left(x_{2} \\right)}}{m_{s} + m_{w}} + g \\sin{\\left(x_{2} \\right)} - \\frac{k_{1} x_{3} \\cos{\\left(x_{2} \\right)}}{m_{s} + m_{w}} - \\frac{l m_{s} x_{4}^{2} \\sin{\\left(x_{2} \\right)} \\cos{\\left(x_{2} \\right)}}{m_{s} + m_{w}}}{l \\left(- \\frac{m_{s} \\cos^{2}{\\left(x_{2} \\right)}}{m_{s} + m_{w}} + 1\\right)}$"
      ],
      "text/plain": [
       "                                                   2                \n",
       "  V⋅u⋅cos(x₂)               k₁⋅x₃⋅cos(x₂)   l⋅mₛ⋅x₄ ⋅sin(x₂)⋅cos(x₂)\n",
       "- ─────────── + g⋅sin(x₂) - ───────────── - ────────────────────────\n",
       "    mₛ + m_w                   mₛ + m_w             mₛ + m_w        \n",
       "────────────────────────────────────────────────────────────────────\n",
       "                         ⎛        2        ⎞                        \n",
       "                         ⎜  mₛ⋅cos (x₂)    ⎟                        \n",
       "                       l⋅⎜- ─────────── + 1⎟                        \n",
       "                         ⎝    mₛ + m_w     ⎠                        "
      ]
     },
     "metadata": {},
     "output_type": "display_data"
    }
   ],
   "source": [
    "# deq system model \n",
    "f1 = x3\n",
    "display(f1)\n",
    "f2 = x4\n",
    "display(f2)\n",
    "f3 = (1/(mw + ms*sin(x2)**2))*(V*u - k1*x3 + ms*l*x4**2*sin(x2) - ms*g*sin(x2)*cos(x2))\n",
    "display(f3)\n",
    "f4 = (1/(l*(1-(ms/(mw+ms))*cos(x2)**2)))*(g*sin(x2)-cos(x2)*V*u/(mw+ms) - cos(x2)*k1*x3/(mw+ms) - ms*l*x4**2*cos(x2)*sin(x2)/(mw+ms))\n",
    "display(f4)"
   ]
  },
  {
   "cell_type": "code",
   "execution_count": 5,
   "id": "cordless-dover",
   "metadata": {},
   "outputs": [],
   "source": [
    "# read identified constants from mat file\n",
    "import scipy.io\n",
    "mat = scipy.io.loadmat('L1_const.mat')\n",
    "mw_id = mat['l1'][0][0][0][0][0]\n",
    "V_id = mat['l1'][0][0][1][0][0]\n",
    "k1_id = mat['l1'][0][0][2][0][0]\n",
    "parameters = {x1: 0, x2: 0, x3: 0, x4: 0, u: 0, mw: mw_id, ms: 0.5, g: 9.81, l: 0.3, V: V_id, k1: k1_id}"
   ]
  },
  {
   "cell_type": "code",
   "execution_count": 6,
   "id": "acceptable-routine",
   "metadata": {},
   "outputs": [],
   "source": [
    "# calculate jacobian with respect to the state variables\n",
    "# jacobian first row\n",
    "j11 = float(diff(f1, x1).subs(parameters))\n",
    "j12 = float(diff(f1, x2).subs(parameters))\n",
    "j13 = float(diff(f1, x3).subs(parameters))\n",
    "j14 = float(diff(f1, x4).subs(parameters))"
   ]
  },
  {
   "cell_type": "code",
   "execution_count": 7,
   "id": "dietary-genealogy",
   "metadata": {},
   "outputs": [],
   "source": [
    "# jacobian second row\n",
    "j21 = float(diff(f2, x1).subs(parameters))\n",
    "j22 = float(diff(f2, x2).subs(parameters))\n",
    "j23 = float(diff(f2, x3).subs(parameters))\n",
    "j24 = float(diff(f2, x4).subs(parameters))"
   ]
  },
  {
   "cell_type": "code",
   "execution_count": 8,
   "id": "diverse-midnight",
   "metadata": {},
   "outputs": [],
   "source": [
    "# jacobian third row\n",
    "j31 = float(diff(f3, x1).subs(parameters))\n",
    "j32 = float(diff(f3, x2).subs(parameters))\n",
    "j33 = float(diff(f3, x3).subs(parameters))\n",
    "j34 = float(diff(f3, x4).subs(parameters))"
   ]
  },
  {
   "cell_type": "code",
   "execution_count": 9,
   "id": "severe-indie",
   "metadata": {},
   "outputs": [],
   "source": [
    "# jacobian fourth row\n",
    "j41 = float(diff(f4, x1).subs(parameters))\n",
    "j42 = float(diff(f4, x2).subs(parameters))\n",
    "j43 = float(diff(f4, x3).subs(parameters))\n",
    "j44 = float(diff(f4, x4).subs(parameters))"
   ]
  },
  {
   "cell_type": "code",
   "execution_count": 10,
   "id": "waiting-lodge",
   "metadata": {},
   "outputs": [],
   "source": [
    "A = np.array([[j11, j12, j13, j14], [j21, j22, j23, j24], [j31, j32, j33, j34], [j41, j42, j43, j44]])"
   ]
  },
  {
   "cell_type": "code",
   "execution_count": 11,
   "id": "enclosed-jewelry",
   "metadata": {},
   "outputs": [],
   "source": [
    "# calculate the linearized output vector\n",
    "g1 = float(diff(f1, u).subs(parameters))\n",
    "g2 = float(diff(f2, u).subs(parameters))\n",
    "g3 = float(diff(f3, u).subs(parameters))\n",
    "g4 = float(diff(f4, u).subs(parameters))"
   ]
  },
  {
   "cell_type": "code",
   "execution_count": 12,
   "id": "passing-genealogy",
   "metadata": {},
   "outputs": [],
   "source": [
    "b = np.array([[g1], [g2], [g3], [g4]])"
   ]
  },
  {
   "cell_type": "code",
   "execution_count": 13,
   "id": "internal-florida",
   "metadata": {},
   "outputs": [],
   "source": [
    "# save numpy as .mat file\n",
    "scipy.io.savemat('linearized_system.mat', {'A': A, 'b': b})"
   ]
  },
  {
   "cell_type": "code",
   "execution_count": 14,
   "id": "daily-amount",
   "metadata": {},
   "outputs": [],
   "source": [
    "import control"
   ]
  },
  {
   "cell_type": "code",
   "execution_count": 15,
   "id": "unavailable-flush",
   "metadata": {},
   "outputs": [
    {
     "ename": "ControlSlycot",
     "evalue": "can't find slycot module 'sb02md' or 'sb02nt'",
     "output_type": "error",
     "traceback": [
      "\u001b[1;31m---------------------------------------------------------------------------\u001b[0m",
      "\u001b[1;31mModuleNotFoundError\u001b[0m                       Traceback (most recent call last)",
      "\u001b[1;32m~\\Anaconda3\\lib\\site-packages\\control\\statefbk.py\u001b[0m in \u001b[0;36mlqr\u001b[1;34m(*args, **keywords)\u001b[0m\n\u001b[0;32m    441\u001b[0m     \u001b[1;32mtry\u001b[0m\u001b[1;33m:\u001b[0m\u001b[1;33m\u001b[0m\u001b[1;33m\u001b[0m\u001b[0m\n\u001b[1;32m--> 442\u001b[1;33m         \u001b[1;32mfrom\u001b[0m \u001b[0mslycot\u001b[0m \u001b[1;32mimport\u001b[0m \u001b[0msb02md\u001b[0m\u001b[1;33m\u001b[0m\u001b[1;33m\u001b[0m\u001b[0m\n\u001b[0m\u001b[0;32m    443\u001b[0m         \u001b[1;32mfrom\u001b[0m \u001b[0mslycot\u001b[0m \u001b[1;32mimport\u001b[0m \u001b[0msb02mt\u001b[0m\u001b[1;33m\u001b[0m\u001b[1;33m\u001b[0m\u001b[0m\n",
      "\u001b[1;31mModuleNotFoundError\u001b[0m: No module named 'slycot'",
      "\nDuring handling of the above exception, another exception occurred:\n",
      "\u001b[1;31mControlSlycot\u001b[0m                             Traceback (most recent call last)",
      "\u001b[1;32m<ipython-input-15-bb9da540953a>\u001b[0m in \u001b[0;36m<module>\u001b[1;34m\u001b[0m\n\u001b[0;32m      5\u001b[0m \u001b[0mr\u001b[0m \u001b[1;33m=\u001b[0m \u001b[1;36m0.1\u001b[0m\u001b[1;33m\u001b[0m\u001b[1;33m\u001b[0m\u001b[0m\n\u001b[0;32m      6\u001b[0m \u001b[1;31m# NOTE: might not work on Windows\u001b[0m\u001b[1;33m\u001b[0m\u001b[1;33m\u001b[0m\u001b[1;33m\u001b[0m\u001b[0m\n\u001b[1;32m----> 7\u001b[1;33m \u001b[0mK\u001b[0m\u001b[1;33m,\u001b[0m \u001b[0m_\u001b[0m\u001b[1;33m,\u001b[0m \u001b[0mE\u001b[0m \u001b[1;33m=\u001b[0m \u001b[0mcontrol\u001b[0m\u001b[1;33m.\u001b[0m\u001b[0mlqr\u001b[0m\u001b[1;33m(\u001b[0m\u001b[0mA\u001b[0m\u001b[1;33m,\u001b[0m \u001b[0mb\u001b[0m\u001b[1;33m,\u001b[0m \u001b[0mQ\u001b[0m\u001b[1;33m,\u001b[0m \u001b[0mr\u001b[0m\u001b[1;33m)\u001b[0m\u001b[1;33m\u001b[0m\u001b[1;33m\u001b[0m\u001b[0m\n\u001b[0m",
      "\u001b[1;32m~\\Anaconda3\\lib\\site-packages\\control\\statefbk.py\u001b[0m in \u001b[0;36mlqr\u001b[1;34m(*args, **keywords)\u001b[0m\n\u001b[0;32m    443\u001b[0m         \u001b[1;32mfrom\u001b[0m \u001b[0mslycot\u001b[0m \u001b[1;32mimport\u001b[0m \u001b[0msb02mt\u001b[0m\u001b[1;33m\u001b[0m\u001b[1;33m\u001b[0m\u001b[0m\n\u001b[0;32m    444\u001b[0m     \u001b[1;32mexcept\u001b[0m \u001b[0mImportError\u001b[0m\u001b[1;33m:\u001b[0m\u001b[1;33m\u001b[0m\u001b[1;33m\u001b[0m\u001b[0m\n\u001b[1;32m--> 445\u001b[1;33m         \u001b[1;32mraise\u001b[0m \u001b[0mControlSlycot\u001b[0m\u001b[1;33m(\u001b[0m\u001b[1;34m\"can't find slycot module 'sb02md' or 'sb02nt'\"\u001b[0m\u001b[1;33m)\u001b[0m\u001b[1;33m\u001b[0m\u001b[1;33m\u001b[0m\u001b[0m\n\u001b[0m\u001b[0;32m    446\u001b[0m \u001b[1;33m\u001b[0m\u001b[0m\n\u001b[0;32m    447\u001b[0m     \u001b[1;31m#\u001b[0m\u001b[1;33m\u001b[0m\u001b[1;33m\u001b[0m\u001b[1;33m\u001b[0m\u001b[0m\n",
      "\u001b[1;31mControlSlycot\u001b[0m: can't find slycot module 'sb02md' or 'sb02nt'"
     ]
    }
   ],
   "source": [
    "# penalize x1 (= xw) and x3 (= vw) not so much\n",
    "# penalize x2 (= phi) and x4 (= omega) more\n",
    "Q = np.array([[1,0,0,0], [0,100,0,0], [0,0,1,0], [0,0,0,100]])\n",
    "# penalize input not some much, actuation can be aggressive\n",
    "r = 0.1\n",
    "# NOTE: might not work on Windows\n",
    "K, _, E = control.lqr(A, b, Q, r)"
   ]
  },
  {
   "cell_type": "code",
   "execution_count": null,
   "id": "individual-bread",
   "metadata": {},
   "outputs": [],
   "source": []
  }
 ],
 "metadata": {
  "kernelspec": {
   "display_name": "Python 3",
   "language": "python",
   "name": "python3"
  },
  "language_info": {
   "codemirror_mode": {
    "name": "ipython",
    "version": 3
   },
   "file_extension": ".py",
   "mimetype": "text/x-python",
   "name": "python",
   "nbconvert_exporter": "python",
   "pygments_lexer": "ipython3",
   "version": "3.8.5"
  }
 },
 "nbformat": 4,
 "nbformat_minor": 5
}
